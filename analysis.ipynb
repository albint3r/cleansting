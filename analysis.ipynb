{
 "cells": [
  {
   "cell_type": "code",
   "execution_count": 1,
   "id": "2b221d53",
   "metadata": {},
   "outputs": [],
   "source": [
    "from cleansting.cleansting import CleanSting\n",
    "import datetime as dt"
   ]
  },
  {
   "cell_type": "code",
   "execution_count": 2,
   "id": "2129d449",
   "metadata": {},
   "outputs": [],
   "source": [
    "d1 = r'C:\\Users\\albin\\PycharmProjects\\webscraper_lamudi\\lamudi\\json_raw\\enero\\lamudi_22_01_2022.json'\n",
    "d2 = r'C:\\Users\\albin\\PycharmProjects\\webscraper_lamudi\\lamudi\\json_raw\\febrero\\01_02_2022.json'\n",
    "d3 = r'C:\\Users\\albin\\PycharmProjects\\webscraper_lamudi\\lamudi\\json_raw\\febrero\\lamudi_15_02_22.json'\n",
    "d4 = r'C:\\Users\\albin\\PycharmProjects\\webscraper_lamudi\\lamudi\\json_raw\\marzo\\lamudi_28_02_22.json'\n",
    "d5 = r'C:\\Users\\albin\\PycharmProjects\\webscraper_lamudi\\lamudi\\json_raw\\marzo\\lamudi_12_03_22.json'\n",
    "d6 = r'C:\\Users\\albin\\PycharmProjects\\webscraper_lamudi\\lamudi\\json_raw\\marzo\\lamudi_18_03_22.json'\n",
    "d7 = r'C:\\Users\\albin\\PycharmProjects\\webscraper_lamudi\\lamudi\\json_raw\\marzo\\lamudi_26_03_2022.json'\n"
   ]
  },
  {
   "cell_type": "code",
   "execution_count": 16,
   "id": "e3f85ffe",
   "metadata": {},
   "outputs": [],
   "source": [
    "def get_final_data():\n",
    "    cl  = CleanSting()\n",
    "    cl.fit_json(d1, d2, d3, d4, d5, d6, d7)\n",
    "    cl.json_to_pd()\n",
    "    cl.drop_nan('main', 'habitaciones', 'banos', 'autos', 'colonia', 'm2_const')\n",
    "    cl.set_sector_inmo('main')\n",
    "    cl.change_dtype('main',\n",
    "                    columns = ('colonia', 'tipo_oferta', 'tipo_inmueble', 'sub_category', 'ciudad', 'estado', 'agent')                    )\n",
    "    cl.change_dtype('main', columns = ('m2_terreno', 'm2_const', 'total_habitaciones'), astype='float16')\n",
    "    cl.change_dtype('main', columns = ('habitaciones', 'banos', 'autos'), astype='int8')\n",
    "    cl.filter_by('main', tipo_inmueble='Casa', tipo_oferta='Venta')\n",
    "    cl.set_amenidades()\n",
    "    \n",
    "    return cl"
   ]
  },
  {
   "cell_type": "code",
   "execution_count": 17,
   "id": "489b1742",
   "metadata": {},
   "outputs": [
    {
     "name": "stdout",
     "output_type": "stream",
     "text": [
      "Tiempo total del programa: 0:01:05.879744\n"
     ]
    }
   ],
   "source": [
    "start = dt.datetime.now()\n",
    "cl = get_final_data()\n",
    "total_time = dt.datetime.now() - start \n",
    "print('Tiempo total del programa:',total_time)"
   ]
  },
  {
   "cell_type": "code",
   "execution_count": 28,
   "id": "ce5315f4",
   "metadata": {},
   "outputs": [
    {
     "name": "stdout",
     "output_type": "stream",
     "text": [
      "<class 'pandas.core.frame.DataFrame'>\n",
      "Int64Index: 164 entries, 2811 to 18699\n",
      "Data columns (total 66 columns):\n",
      " #   Column                                 Non-Null Count  Dtype   \n",
      "---  ------                                 --------------  -----   \n",
      " 0   index                                  164 non-null    int64   \n",
      " 1   tipo_inmueble                          164 non-null    category\n",
      " 2   sub_category                           164 non-null    category\n",
      " 3   tipo_oferta                            164 non-null    category\n",
      " 4   colonia                                164 non-null    category\n",
      " 5   estado                                 164 non-null    category\n",
      " 6   ciudad                                 164 non-null    category\n",
      " 7   lat                                    164 non-null    float64 \n",
      " 8   long                                   164 non-null    float64 \n",
      " 9   divisa                                 164 non-null    object  \n",
      " 10  price                                  164 non-null    float64 \n",
      " 11  m2_terreno                             164 non-null    float16 \n",
      " 12  m2_const                               164 non-null    float16 \n",
      " 13  habitaciones                           164 non-null    int8    \n",
      " 14  total_habitaciones                     96 non-null     float16 \n",
      " 15  banos                                  164 non-null    int8    \n",
      " 16  autos                                  164 non-null    int8    \n",
      " 17  antiguedad                             42 non-null     float64 \n",
      " 18  amenidades                             63 non-null     object  \n",
      " 19  fecha_pub                              164 non-null    object  \n",
      " 20  descripcion                            164 non-null    object  \n",
      " 21  link_img                               164 non-null    object  \n",
      " 22  link                                   164 non-null    object  \n",
      " 23  sku                                    164 non-null    object  \n",
      " 24  agent                                  164 non-null    category\n",
      " 25  sector_inmo                            164 non-null    category\n",
      " 26  Piso de loseta                         164 non-null    bool    \n",
      " 27  Aire acondicionado                     164 non-null    bool    \n",
      " 28  Cocina Equipada                        164 non-null    bool    \n",
      " 29  Patio                                  164 non-null    bool    \n",
      " 30  Jardín                                 164 non-null    bool    \n",
      " 31  Alberca                                164 non-null    bool    \n",
      " 32  Estacionamiento abierto                164 non-null    bool    \n",
      " 33  Estudio                                164 non-null    bool    \n",
      " 34  Cuarto de servicio                     164 non-null    bool    \n",
      " 35  Balcón                                 164 non-null    bool    \n",
      " 36  Terraza                                164 non-null    bool    \n",
      " 37  Área de entretenimiento al aire libre  164 non-null    bool    \n",
      " 38  Estacionamiento para Visitas           164 non-null    bool    \n",
      " 39  Acceso a TV de paga                    164 non-null    bool    \n",
      " 40  Armarios empotrados                    164 non-null    bool    \n",
      " 41  Chimenea                               164 non-null    bool    \n",
      " 42  Piso de duela                          164 non-null    bool    \n",
      " 43  Totalmente cercado                     164 non-null    bool    \n",
      " 44  Área de juegos infantiles              164 non-null    bool    \n",
      " 45  Estacionamiento techado                164 non-null    bool    \n",
      " 46  Estacionamiento vigilado               164 non-null    bool    \n",
      " 47  Garaje                                 164 non-null    bool    \n",
      " 48  Jacuzzi                                164 non-null    bool    \n",
      " 49  Extractor en baños                     164 non-null    bool    \n",
      " 50  Gimnasio                               164 non-null    bool    \n",
      " 51  Internet de banda ancha disponible     164 non-null    bool    \n",
      " 52  Estacionamiento para visitas           164 non-null    bool    \n",
      " 53  Elevador                               164 non-null    bool    \n",
      " 54  Roof Garden                            164 non-null    bool    \n",
      " 55  Intercomunicador                       164 non-null    bool    \n",
      " 56  Salón de usos múltples                 164 non-null    bool    \n",
      " 57  Área de Juegos Infantiles              164 non-null    bool    \n",
      " 58  Calefacción                            164 non-null    bool    \n",
      " 59  Cancha de tenis                        164 non-null    bool    \n",
      " 60  Garaje a distancia                     164 non-null    bool    \n",
      " 61  Piso de alfombra                       164 non-null    bool    \n",
      " 62  Sistema de alarma                      164 non-null    bool    \n",
      " 63  m2_price                               164 non-null    float64 \n",
      " 64  m2_const_price                         164 non-null    float64 \n",
      " 65  abs_price                              164 non-null    float64 \n",
      "dtypes: bool(37), category(8), float16(3), float64(7), int64(1), int8(3), object(7)\n",
      "memory usage: 112.6+ KB\n"
     ]
    }
   ],
   "source": [
    "columns = ('m2_terreno', 'm2_const', 'habitaciones', 'banos', 'autos')\n",
    "cl.filter_by(tb_name='main', tipo_inmueble='Casa', tipo_oferta='Venta', colonia='Puerta de Hierro')\n",
    "cl.drop_outliers(tb_name='filtered', columns=columns)\n",
    "cl.df['filtered']['m2_price'] = cl.get_m2_price('filtered')\n",
    "cl.df['filtered']['m2_const_price'] = cl.get_m2_const_price('filtered')\n",
    "cl.df['filtered']['abs_price'] = cl.get_abs_price('filtered')\n",
    "df = cl.df['filtered']\n",
    "df.info()\n",
    "\n",
    "\n",
    "\n"
   ]
  },
  {
   "cell_type": "code",
   "execution_count": null,
   "id": "cb5e5608",
   "metadata": {},
   "outputs": [],
   "source": []
  },
  {
   "cell_type": "code",
   "execution_count": null,
   "id": "d617d0af",
   "metadata": {},
   "outputs": [],
   "source": []
  }
 ],
 "metadata": {
  "kernelspec": {
   "display_name": "Python 3 (ipykernel)",
   "language": "python",
   "name": "python3"
  },
  "language_info": {
   "codemirror_mode": {
    "name": "ipython",
    "version": 3
   },
   "file_extension": ".py",
   "mimetype": "text/x-python",
   "name": "python",
   "nbconvert_exporter": "python",
   "pygments_lexer": "ipython3",
   "version": "3.9.5"
  }
 },
 "nbformat": 4,
 "nbformat_minor": 5
}
