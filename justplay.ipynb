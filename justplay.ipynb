{
 "cells": [
  {
   "cell_type": "code",
   "execution_count": 1,
   "id": "1af9377e-90b3-4357-a129-999c6c213db6",
   "metadata": {},
   "outputs": [],
   "source": [
    "# types\n",
    "from numpy import array\n",
    "# Imports \n",
    "import time\n",
    "import datetime as dt\n",
    "# Math\n",
    "import pandas as pd\n",
    "import numpy as np\n",
    "# Plot\n",
    "import matplotlib.pyplot as plt\n",
    "import seaborn as sns\n",
    "import plotly.express as px\n",
    "# Ml\n",
    "from sklearn.preprocessing import MinMaxScaler, StandardScaler, LabelEncoder\n",
    "from sklearn.metrics import mean_squared_error\n",
    "from sklearn.model_selection import train_test_split, cross_val_score, cross_val_predict, GridSearchCV\n",
    "from sklearn.cluster import KMeans\n",
    "from sklearn.cluster import DBSCAN\n",
    "from sklearn.linear_model import LinearRegression, Lasso, Ridge\n",
    "from sklearn.ensemble import RandomForestRegressor\n",
    "# Save Models\n",
    "import joblib\n",
    "# Directories\n",
    "from cleansting.cleansting import CleanSting\n",
    "from cleansting.express import express_work_setup, rm_outliers_by_colonia, set_dummies_features, colonies_encoder, identify_skew_features\n",
    "from cleansting.ml.select_model import compare_ml_models, per_error_predicts, error_resume, hpt_random_forest, hpt_ridge, hpt_linear, compare_model_error, compare_score_models\n",
    "from cleansting.data_visualization.plots import heatmap_corr"
   ]
  },
  {
   "cell_type": "code",
   "execution_count": 2,
   "id": "497c25b2-cd72-4b58-8c76-642683da4f52",
   "metadata": {},
   "outputs": [],
   "source": [
    "d1 = r'C:\\Users\\albin\\PycharmProjects\\webscraper_lamudi\\lamudi\\json_raw\\enero\\lamudi_22_01_2022.json'\n",
    "d2 = r'C:\\Users\\albin\\PycharmProjects\\webscraper_lamudi\\lamudi\\json_raw\\febrero\\01_02_2022.json'\n",
    "d3 = r'C:\\Users\\albin\\PycharmProjects\\webscraper_lamudi\\lamudi\\json_raw\\febrero\\lamudi_15_02_22.json'\n",
    "d4 = r'C:\\Users\\albin\\PycharmProjects\\webscraper_lamudi\\lamudi\\json_raw\\marzo\\lamudi_28_02_22.json'\n",
    "d5 = r'C:\\Users\\albin\\PycharmProjects\\webscraper_lamudi\\lamudi\\json_raw\\marzo\\lamudi_12_03_22.json'\n",
    "d6 = r'C:\\Users\\albin\\PycharmProjects\\webscraper_lamudi\\lamudi\\json_raw\\marzo\\lamudi_18_03_22.json'\n",
    "d7 = r'C:\\Users\\albin\\PycharmProjects\\webscraper_lamudi\\lamudi\\json_raw\\marzo\\lamudi_26_03_2022.json'\n",
    "d8 = r'C:\\Users\\albin\\PycharmProjects\\webscraper_lamudi\\lamudi\\json_raw\\abril\\lamudi_01_04_22.json'\n",
    "d9 = r'C:\\Users\\albin\\PycharmProjects\\webscraper_lamudi\\lamudi\\json_raw\\abril\\lamudi_08_04_22.json'"
   ]
  },
  {
   "cell_type": "code",
   "execution_count": 3,
   "id": "8b84ac31-bf00-494a-8295-a39c1d779746",
   "metadata": {},
   "outputs": [],
   "source": [
    "cl = CleanSting()\n",
    "cl.fit_json(d1, d2, d3,d4,d5,d6,d7,d8, d9)\n",
    "# Clean Information and add new columns\n",
    "df  =  cl.factory()\n",
    "# Main Columns\n",
    "columns = cl.COLUMNS"
   ]
  },
  {
   "cell_type": "code",
   "execution_count": 4,
   "id": "157d8e2b-c9fb-4b77-b9fc-6b036855a451",
   "metadata": {},
   "outputs": [],
   "source": [
    "cl = CleanSting()\n",
    "cl = cl.setup_model_data(d1, d2, d3,d4,d5,d6,d7,d8, d9, filter_by = {'tipo_inmueble': 'Casa', 'tipo_oferta': 'Venta'})"
   ]
  },
  {
   "cell_type": "code",
   "execution_count": 5,
   "id": "d875657d-9148-489f-86c2-ed2fb599c587",
   "metadata": {},
   "outputs": [],
   "source": [
    "zona = cl.df['filtered']"
   ]
  },
  {
   "cell_type": "code",
   "execution_count": 6,
   "id": "55306ee0-0566-4d49-aec0-42b3769108a5",
   "metadata": {},
   "outputs": [],
   "source": [
    "above_50_properties = zona.colonia.value_counts().pipe(lambda serie_ : serie_[serie_ > 50]).index"
   ]
  },
  {
   "cell_type": "code",
   "execution_count": 7,
   "id": "c013ca9e-b7fc-43c5-8673-58e5d32c8213",
   "metadata": {},
   "outputs": [
    {
     "data": {
      "text/plain": [
       "33"
      ]
     },
     "execution_count": 7,
     "metadata": {},
     "output_type": "execute_result"
    }
   ],
   "source": [
    "len(above_50_properties)"
   ]
  },
  {
   "cell_type": "markdown",
   "id": "7c0bea4f-4166-4887-be9d-4b98d88bf271",
   "metadata": {},
   "source": [
    "# Test Models"
   ]
  },
  {
   "cell_type": "code",
   "execution_count": 8,
   "id": "5da8189f-188c-4eb8-a752-ef8d0d41a707",
   "metadata": {},
   "outputs": [],
   "source": [
    "def qualify_each_zone(data, colonies: list, **kwargs):\n",
    "    \n",
    "    df = data\n",
    "    \n",
    "    results = list()\n",
    "    \n",
    "    for colonie in colonies:\n",
    "        \n",
    "        df_colonia = df.loc[df.colonia == colonie]\n",
    "        \n",
    "        # Split the Data\n",
    "        X = df_colonia.loc[:, columns].values\n",
    "        y = df_colonia.price.values\n",
    "\n",
    "        X_train, X_test, y_train, y_test = train_test_split(X, y, random_state = 72, test_size=.30)\n",
    "\n",
    "        model = hpt_random_forest(X_train, y_train, max_depth= [4, 6, 8])\n",
    "        y_pred = model.predict(X_test)\n",
    "        score_pred = model.score(X_test, y_test)\n",
    "\n",
    "\n",
    "        diff = np.abs(((y_pred - y_test) / y_test) * 100)\n",
    "        error_per = 100 - np.mean(diff)\n",
    "        \n",
    "        result = {'colonia': colonie,'score': score_pred ,'error' : np.mean(diff), 'diff_score':  error_per, 'Good': True if score_pred >= .70 else False}\n",
    "        print(result, '\\n')\n",
    "        results.append(result)\n",
    "    \n",
    "    return pd.DataFrame(results)"
   ]
  },
  {
   "cell_type": "code",
   "execution_count": 9,
   "id": "7826200f-8885-44c1-ab0b-a146163dffd3",
   "metadata": {
    "collapsed": true,
    "jupyter": {
     "outputs_hidden": true
    },
    "tags": []
   },
   "outputs": [
    {
     "name": "stdout",
     "output_type": "stream",
     "text": [
      "Fitting 3 folds for each of 360 candidates, totalling 1080 fits\n",
      "{'colonia': 'Valle Imperial', 'score': 0.9993466906423247, 'error': 0.4646301840361923, 'diff_score': 99.5353698159638, 'Good': True} \n",
      "\n",
      "Fitting 3 folds for each of 360 candidates, totalling 1080 fits\n",
      "{'colonia': 'Zapopan Centro', 'score': 0.9973171742578778, 'error': 1.1021982305323776, 'diff_score': 98.89780176946762, 'Good': True} \n",
      "\n",
      "Fitting 3 folds for each of 360 candidates, totalling 1080 fits\n",
      "{'colonia': 'Solares', 'score': 0.9945206698221875, 'error': 0.4932565970920987, 'diff_score': 99.5067434029079, 'Good': True} \n",
      "\n",
      "Fitting 3 folds for each of 360 candidates, totalling 1080 fits\n",
      "{'colonia': 'Valle Real', 'score': 0.9976056309991523, 'error': 1.387120256131459, 'diff_score': 98.61287974386855, 'Good': True} \n",
      "\n",
      "Fitting 3 folds for each of 360 candidates, totalling 1080 fits\n",
      "{'colonia': 'Bosques de Santa Anita', 'score': 0.9989221653405614, 'error': 0.678155628635896, 'diff_score': 99.32184437136411, 'Good': True} \n",
      "\n",
      "Fitting 3 folds for each of 360 candidates, totalling 1080 fits\n",
      "{'colonia': 'Bugambilias', 'score': 0.9964691366111252, 'error': 1.7013801126098418, 'diff_score': 98.29861988739016, 'Good': True} \n",
      "\n",
      "Fitting 3 folds for each of 360 candidates, totalling 1080 fits\n",
      "{'colonia': 'Nuevo Vallarta', 'score': 0.9855034498846891, 'error': 9.717956877402461, 'diff_score': 90.28204312259754, 'Good': True} \n",
      "\n",
      "Fitting 3 folds for each of 360 candidates, totalling 1080 fits\n",
      "{'colonia': 'Puerta de Hierro', 'score': 0.9917585400180312, 'error': 2.539014310942892, 'diff_score': 97.46098568905711, 'Good': True} \n",
      "\n",
      "Fitting 3 folds for each of 360 candidates, totalling 1080 fits\n",
      "{'colonia': 'Tlajomulco de Zuñiga', 'score': 0.9905633914479446, 'error': 12.036203245269174, 'diff_score': 87.96379675473082, 'Good': True} \n",
      "\n",
      "Fitting 3 folds for each of 360 candidates, totalling 1080 fits\n",
      "{'colonia': 'San Agustin', 'score': 0.6761078184051864, 'error': 2.8689888745313636, 'diff_score': 97.13101112546863, 'Good': False} \n",
      "\n",
      "Fitting 3 folds for each of 360 candidates, totalling 1080 fits\n",
      "{'colonia': 'Virreyes Residencial', 'score': 0.9866345360331914, 'error': 2.2510393237368325, 'diff_score': 97.74896067626317, 'Good': True} \n",
      "\n",
      "Fitting 3 folds for each of 360 candidates, totalling 1080 fits\n",
      "{'colonia': 'La cima de Zapopan', 'score': 0.908833152654461, 'error': 2.594420885077325, 'diff_score': 97.40557911492267, 'Good': True} \n",
      "\n",
      "Fitting 3 folds for each of 360 candidates, totalling 1080 fits\n",
      "{'colonia': 'El Palomar', 'score': 0.48820730632452103, 'error': 5.327616140707633, 'diff_score': 94.67238385929237, 'Good': False} \n",
      "\n",
      "Fitting 3 folds for each of 360 candidates, totalling 1080 fits\n",
      "{'colonia': 'El Alcázar (Casa Fuerte)', 'score': 0.9257309745459174, 'error': 1.8702426064520554, 'diff_score': 98.12975739354795, 'Good': True} \n",
      "\n",
      "Fitting 3 folds for each of 360 candidates, totalling 1080 fits\n",
      "{'colonia': 'Las Cañadas', 'score': 0.9911870563260554, 'error': 12.177079305127302, 'diff_score': 87.82292069487269, 'Good': True} \n",
      "\n",
      "Fitting 3 folds for each of 360 candidates, totalling 1080 fits\n",
      "{'colonia': 'Santa Anita', 'score': 0.6385465745684056, 'error': 18.06771470635308, 'diff_score': 81.93228529364691, 'Good': False} \n",
      "\n",
      "Fitting 3 folds for each of 360 candidates, totalling 1080 fits\n",
      "{'colonia': 'Senderos de Monte Verde', 'score': 0.9245457587924364, 'error': 1.3062819392849956, 'diff_score': 98.693718060715, 'Good': True} \n",
      "\n",
      "Fitting 3 folds for each of 360 candidates, totalling 1080 fits\n",
      "{'colonia': 'Campo Sur', 'score': 0.962032483243405, 'error': 12.644674645080649, 'diff_score': 87.35532535491936, 'Good': True} \n",
      "\n",
      "Fitting 3 folds for each of 360 candidates, totalling 1080 fits\n",
      "{'colonia': 'Los Gavilanes', 'score': 0.9685793423815803, 'error': 18.97807960787344, 'diff_score': 81.02192039212656, 'Good': True} \n",
      "\n",
      "Fitting 3 folds for each of 360 candidates, totalling 1080 fits\n",
      "{'colonia': 'Ciudad Granja', 'score': 0.5809234157950158, 'error': 6.160687346909246, 'diff_score': 93.83931265309076, 'Good': False} \n",
      "\n",
      "Fitting 3 folds for each of 360 candidates, totalling 1080 fits\n",
      "{'colonia': 'Real Del Valle', 'score': 0.9967087488578025, 'error': 1.6871843626015015, 'diff_score': 98.3128156373985, 'Good': True} \n",
      "\n",
      "Fitting 3 folds for each of 360 candidates, totalling 1080 fits\n",
      "{'colonia': 'Jardín Real', 'score': 0.9798947710663513, 'error': 8.24709046127063, 'diff_score': 91.75290953872937, 'Good': True} \n",
      "\n",
      "Fitting 3 folds for each of 360 candidates, totalling 1080 fits\n",
      "{'colonia': 'Club de Golf Santa Anita', 'score': 0.9923194141985997, 'error': 3.1838540394040717, 'diff_score': 96.81614596059593, 'Good': True} \n",
      "\n",
      "Fitting 3 folds for each of 360 candidates, totalling 1080 fits\n",
      "{'colonia': 'Las Lomas Club Golf', 'score': 0.9479735857704915, 'error': 3.9988607824323137, 'diff_score': 96.00113921756768, 'Good': True} \n",
      "\n",
      "Fitting 3 folds for each of 360 candidates, totalling 1080 fits\n",
      "{'colonia': 'Arauca', 'score': 0.8761493214536004, 'error': 3.4459566083311404, 'diff_score': 96.55404339166886, 'Good': True} \n",
      "\n",
      "Fitting 3 folds for each of 360 candidates, totalling 1080 fits\n",
      "{'colonia': 'Real de Valdepeñas', 'score': 0.9923219002915084, 'error': 1.8513015069145347, 'diff_score': 98.14869849308546, 'Good': True} \n",
      "\n",
      "Fitting 3 folds for each of 360 candidates, totalling 1080 fits\n",
      "{'colonia': 'El Fortín', 'score': 0.9452366870920557, 'error': 3.8029012092948826, 'diff_score': 96.19709879070511, 'Good': True} \n",
      "\n",
      "Fitting 3 folds for each of 360 candidates, totalling 1080 fits\n",
      "{'colonia': 'Nueva Galicia Residencial', 'score': 0.8400453646667461, 'error': 7.475297084431739, 'diff_score': 92.52470291556826, 'Good': True} \n",
      "\n",
      "Fitting 3 folds for each of 360 candidates, totalling 1080 fits\n",
      "{'colonia': 'Los Robles', 'score': 0.8943147146667604, 'error': 9.174204199931243, 'diff_score': 90.82579580006876, 'Good': True} \n",
      "\n",
      "Fitting 3 folds for each of 360 candidates, totalling 1080 fits\n",
      "{'colonia': 'Ciudad Del Sol', 'score': 0.9899535263737551, 'error': 6.978108486921746, 'diff_score': 93.02189151307826, 'Good': True} \n",
      "\n",
      "Fitting 3 folds for each of 360 candidates, totalling 1080 fits\n",
      "{'colonia': 'Hacienda Santa Fe', 'score': 0.9608687243717039, 'error': 2.5520355364175744, 'diff_score': 97.44796446358242, 'Good': True} \n",
      "\n",
      "Fitting 3 folds for each of 360 candidates, totalling 1080 fits\n",
      "{'colonia': 'Altavista Residencial', 'score': 0.7429889349953295, 'error': 19.663834660253983, 'diff_score': 80.33616533974602, 'Good': True} \n",
      "\n",
      "Fitting 3 folds for each of 360 candidates, totalling 1080 fits\n",
      "{'colonia': 'Ayamonte', 'score': 0.9833359065858196, 'error': 1.5269186422725096, 'diff_score': 98.4730813577275, 'Good': True} \n",
      "\n"
     ]
    }
   ],
   "source": [
    "result = qualify_each_zone(zona, above_50_properties)"
   ]
  },
  {
   "cell_type": "code",
   "execution_count": 31,
   "id": "ee13047d-6526-4487-92cb-8a1e86f0ff5b",
   "metadata": {},
   "outputs": [
    {
     "data": {
      "text/plain": [
       "0.8787878787878788"
      ]
     },
     "execution_count": 31,
     "metadata": {},
     "output_type": "execute_result"
    }
   ],
   "source": [
    "result.Good.sum() / len(result)"
   ]
  },
  {
   "cell_type": "code",
   "execution_count": 33,
   "id": "3edf4805-c2f8-4df7-a671-ebc517ab6508",
   "metadata": {},
   "outputs": [
    {
     "data": {
      "text/html": [
       "<div>\n",
       "<style scoped>\n",
       "    .dataframe tbody tr th:only-of-type {\n",
       "        vertical-align: middle;\n",
       "    }\n",
       "\n",
       "    .dataframe tbody tr th {\n",
       "        vertical-align: top;\n",
       "    }\n",
       "\n",
       "    .dataframe thead th {\n",
       "        text-align: right;\n",
       "    }\n",
       "</style>\n",
       "<table border=\"1\" class=\"dataframe\">\n",
       "  <thead>\n",
       "    <tr style=\"text-align: right;\">\n",
       "      <th></th>\n",
       "      <th>colonia</th>\n",
       "      <th>score</th>\n",
       "      <th>error</th>\n",
       "      <th>diff_score</th>\n",
       "      <th>Good</th>\n",
       "    </tr>\n",
       "  </thead>\n",
       "  <tbody>\n",
       "    <tr>\n",
       "      <th>0</th>\n",
       "      <td>Valle Imperial</td>\n",
       "      <td>0.999347</td>\n",
       "      <td>0.464630</td>\n",
       "      <td>99.535370</td>\n",
       "      <td>True</td>\n",
       "    </tr>\n",
       "    <tr>\n",
       "      <th>1</th>\n",
       "      <td>Zapopan Centro</td>\n",
       "      <td>0.997317</td>\n",
       "      <td>1.102198</td>\n",
       "      <td>98.897802</td>\n",
       "      <td>True</td>\n",
       "    </tr>\n",
       "    <tr>\n",
       "      <th>2</th>\n",
       "      <td>Solares</td>\n",
       "      <td>0.994521</td>\n",
       "      <td>0.493257</td>\n",
       "      <td>99.506743</td>\n",
       "      <td>True</td>\n",
       "    </tr>\n",
       "    <tr>\n",
       "      <th>3</th>\n",
       "      <td>Valle Real</td>\n",
       "      <td>0.997606</td>\n",
       "      <td>1.387120</td>\n",
       "      <td>98.612880</td>\n",
       "      <td>True</td>\n",
       "    </tr>\n",
       "    <tr>\n",
       "      <th>4</th>\n",
       "      <td>Bosques de Santa Anita</td>\n",
       "      <td>0.998922</td>\n",
       "      <td>0.678156</td>\n",
       "      <td>99.321844</td>\n",
       "      <td>True</td>\n",
       "    </tr>\n",
       "  </tbody>\n",
       "</table>\n",
       "</div>"
      ],
      "text/plain": [
       "                  colonia     score     error  diff_score  Good\n",
       "0          Valle Imperial  0.999347  0.464630   99.535370  True\n",
       "1          Zapopan Centro  0.997317  1.102198   98.897802  True\n",
       "2                 Solares  0.994521  0.493257   99.506743  True\n",
       "3              Valle Real  0.997606  1.387120   98.612880  True\n",
       "4  Bosques de Santa Anita  0.998922  0.678156   99.321844  True"
      ]
     },
     "execution_count": 33,
     "metadata": {},
     "output_type": "execute_result"
    }
   ],
   "source": [
    "result.head()"
   ]
  },
  {
   "cell_type": "code",
   "execution_count": 36,
   "id": "fda6ef45-8b74-44a4-8ddb-580d3a98dc00",
   "metadata": {},
   "outputs": [],
   "source": [
    "valle_imp = zona[zona.colonia == 'Valle Imperial']\n",
    "\n",
    "columns = [\n",
    "    'm2_terreno',\n",
    "           'm2_const', 'habitaciones', 'banos', 'autos',\n",
    "    'endocer_colonia'\n",
    "]\n",
    "\n",
    "scaler = MinMaxScaler()\n",
    "\n",
    "# Select Features\n",
    "X = valle_imp.loc[:, columns].values\n",
    "# Select Target\n",
    "y = valle_imp.price.values\n",
    "X_train, X_test, y_train, y_test = train_test_split(X, y, random_state = 72, test_size=.30)\n"
   ]
  },
  {
   "cell_type": "code",
   "execution_count": 38,
   "id": "03e1cb94-68c8-4fe8-bcc0-c693bdfbf9e3",
   "metadata": {},
   "outputs": [
    {
     "name": "stdout",
     "output_type": "stream",
     "text": [
      "Fitting 3 folds for each of 192 candidates, totalling 576 fits\n"
     ]
    }
   ],
   "source": [
    "result_model = hpt_random_forest(X_train, y_train, n_estimators= [int(x) for x in np.linspace(80, 100, 4)])"
   ]
  },
  {
   "cell_type": "code",
   "execution_count": 45,
   "id": "7e7b5c84-377d-48c6-87a9-9c2f990985e4",
   "metadata": {},
   "outputs": [
    {
     "data": {
      "text/plain": [
       "array([[130, 230,   3,   2,   2, 718]])"
      ]
     },
     "execution_count": 45,
     "metadata": {},
     "output_type": "execute_result"
    }
   ],
   "source": [
    "m2_terreno = 130\n",
    "m2_const= 230\n",
    "habitaciones=3\n",
    "banos=2\n",
    "autos=2\n",
    "endoder = 718\n",
    "to_predict = np.array([[\n",
    "    m2_terreno ,\n",
    "    m2_const,  habitaciones, banos, autos,\n",
    "    endoder\n",
    "]])\n",
    "to_predict"
   ]
  },
  {
   "cell_type": "code",
   "execution_count": 46,
   "id": "c500c691-65bb-4900-960b-4d890948f85f",
   "metadata": {},
   "outputs": [
    {
     "data": {
      "text/plain": [
       "array([4127400.59523809])"
      ]
     },
     "execution_count": 46,
     "metadata": {},
     "output_type": "execute_result"
    }
   ],
   "source": [
    "result_model.predict(to_predict)"
   ]
  },
  {
   "cell_type": "markdown",
   "id": "16d8bb04-0db0-4918-bd42-fd1ddcd5ecd6",
   "metadata": {},
   "source": [
    "# General Test"
   ]
  },
  {
   "cell_type": "code",
   "execution_count": 11,
   "id": "9d60a8eb-c5ad-40d9-a418-4029db201137",
   "metadata": {},
   "outputs": [],
   "source": [
    "columns = [\n",
    "    'm2_terreno',\n",
    "           'm2_const', 'habitaciones', 'banos', 'autos',\n",
    "    'endocer_colonia'\n",
    "]\n",
    "\n",
    "scaler = MinMaxScaler()\n",
    "\n",
    "# Select Features\n",
    "X = zona.loc[:, columns].values\n",
    "\n",
    "X_scaler = scaler.fit_transform(X)\n",
    "# Select Target\n",
    "y = zona.price.values\n",
    "X_train, X_test, y_train, y_test = train_test_split(X, y, random_state = 72, test_size=.30)"
   ]
  },
  {
   "cell_type": "code",
   "execution_count": 12,
   "id": "c2e78d4b-1c31-4cdc-b09b-789b93a2196f",
   "metadata": {},
   "outputs": [],
   "source": [
    "ridge = Ridge(alpha=99)"
   ]
  },
  {
   "cell_type": "code",
   "execution_count": 13,
   "id": "1d9e4c1f-185b-4376-b635-fbb1f1af9436",
   "metadata": {},
   "outputs": [
    {
     "name": "stdout",
     "output_type": "stream",
     "text": [
      "Score: 0.7403816397362095\n",
      "Best Parameters: Ridge(alpha=0)\n"
     ]
    }
   ],
   "source": [
    "ridge = hpt_ridge(X_train, y_train, X_test, y_test)"
   ]
  },
  {
   "cell_type": "code",
   "execution_count": 14,
   "id": "65c3ecd7-2c13-4593-8119-695ff2402c5d",
   "metadata": {},
   "outputs": [
    {
     "name": "stdout",
     "output_type": "stream",
     "text": [
      "CV Score: 0.71\n",
      "Train score 0.74\n",
      "Predict Score 0.74\n",
      "-----------------\n",
      "All Scores 0.73\n"
     ]
    }
   ],
   "source": [
    "lin = hpt_linear(X_train, y_train, X_test, y_test)"
   ]
  },
  {
   "cell_type": "code",
   "execution_count": 15,
   "id": "6cd432d5-6cb3-42ae-a4ed-630e6f0f7e62",
   "metadata": {},
   "outputs": [
    {
     "name": "stdout",
     "output_type": "stream",
     "text": [
      "Fitting 3 folds for each of 192 candidates, totalling 576 fits\n"
     ]
    }
   ],
   "source": [
    "rf = hpt_random_forest(X_train, y_train, n_estimators= [int(x) for x in np.linspace(80, 100, 4)])"
   ]
  },
  {
   "cell_type": "code",
   "execution_count": 16,
   "id": "dc9402b6-cd31-4dd1-a229-5a6495d8e8ad",
   "metadata": {},
   "outputs": [
    {
     "data": {
      "text/plain": [
       "<bound method BaseEstimator.get_params of RandomForestRegressor(max_depth=14, max_features='log2', n_estimators=93,\n",
       "                      random_state=42)>"
      ]
     },
     "execution_count": 16,
     "metadata": {},
     "output_type": "execute_result"
    }
   ],
   "source": [
    "rf.get_params"
   ]
  },
  {
   "cell_type": "code",
   "execution_count": 17,
   "id": "f2ae7fd1-1afa-4150-a321-88f0115c57b7",
   "metadata": {},
   "outputs": [
    {
     "name": "stdout",
     "output_type": "stream",
     "text": [
      "\n",
      "------Randomfores--------\n",
      "The mean error: 37.26%\n",
      "The std error: 99.37\n",
      "Count Error below 7% : 0.30%\n",
      "\n",
      "------Linear--------\n",
      "The mean error: 66.28%\n",
      "The std error: 125.04\n",
      "Count Error below 7% : 0.13%\n",
      "\n",
      "------Ridge--------\n",
      "The mean error: 66.28%\n",
      "The std error: 125.04\n",
      "Count Error below 7% : 0.13%\n"
     ]
    }
   ],
   "source": [
    "compare_model_error(X_test, y_test, randomfores=rf, linear=lin, ridge=ridge)"
   ]
  },
  {
   "cell_type": "code",
   "execution_count": 18,
   "id": "b2db55f3-c78f-4c91-b3ce-676cc090d76d",
   "metadata": {},
   "outputs": [
    {
     "name": "stdout",
     "output_type": "stream",
     "text": [
      "\n",
      "------- Linear ---------\n",
      "Train Score: 0.73\n",
      "Mean Train error: 11.49% \n",
      "\n",
      "Test Score: 0.74\n",
      "Mean Test error: 13.39%\n",
      "\n",
      "------- Ridge ---------\n",
      "Train Score: 0.73\n",
      "Mean Train error: 11.49% \n",
      "\n",
      "Test Score: 0.74\n",
      "Mean Test error: 13.39%\n",
      "\n",
      "------- Randomfores ---------\n",
      "Train Score: 0.97\n",
      "Mean Train error: 12.02% \n",
      "\n",
      "Test Score: 0.87\n",
      "Mean Test error: 22.52%\n",
      "\n",
      "--------------------------------------\n",
      "Best Model: Randomfores\n",
      "Score: 87%\n"
     ]
    },
    {
     "data": {
      "text/plain": [
       "RandomForestRegressor(max_depth=14, max_features='log2', n_estimators=93,\n",
       "                      random_state=42)"
      ]
     },
     "execution_count": 18,
     "metadata": {},
     "output_type": "execute_result"
    }
   ],
   "source": [
    "compare_score_models(X_train, X_test, y_train, y_test, linear=lin, ridge=ridge, randomfores= rf)"
   ]
  },
  {
   "cell_type": "code",
   "execution_count": 47,
   "id": "0eec84fe-203f-4327-9a82-19d87ce5bb55",
   "metadata": {},
   "outputs": [
    {
     "data": {
      "text/plain": [
       "array([[130, 230,   3,   2,   2, 718]])"
      ]
     },
     "execution_count": 47,
     "metadata": {},
     "output_type": "execute_result"
    }
   ],
   "source": [
    "m2_terreno = 130\n",
    "m2_const= 230\n",
    "habitaciones=3\n",
    "banos=2\n",
    "autos=2\n",
    "endoder = 718\n",
    "to_predict = np.array([[\n",
    "    m2_terreno ,\n",
    "    m2_const,  habitaciones, banos, autos,\n",
    "    endoder\n",
    "]])\n",
    "to_predict"
   ]
  },
  {
   "cell_type": "code",
   "execution_count": 48,
   "id": "02cd99ae-ab53-458f-ae7c-9a118a08880d",
   "metadata": {},
   "outputs": [
    {
     "data": {
      "text/plain": [
       "array([3128295.45617024])"
      ]
     },
     "execution_count": 48,
     "metadata": {},
     "output_type": "execute_result"
    }
   ],
   "source": [
    "r_result = rf.predict(to_predict) \n",
    "r_result"
   ]
  },
  {
   "cell_type": "code",
   "execution_count": 49,
   "id": "83cebca7-5584-4b26-ba8d-a042d591a607",
   "metadata": {},
   "outputs": [
    {
     "data": {
      "text/plain": [
       "array([4745180.27676157])"
      ]
     },
     "execution_count": 49,
     "metadata": {},
     "output_type": "execute_result"
    }
   ],
   "source": [
    "rid_result = ridge.predict(to_predict)\n",
    "rid_result"
   ]
  },
  {
   "cell_type": "code",
   "execution_count": 50,
   "id": "682b7a25-d27f-4019-a801-4ed953e07620",
   "metadata": {},
   "outputs": [
    {
     "data": {
      "text/plain": [
       "3936737.866465903"
      ]
     },
     "execution_count": 50,
     "metadata": {},
     "output_type": "execute_result"
    }
   ],
   "source": [
    "np.mean([r_result, rid_result])"
   ]
  },
  {
   "cell_type": "code",
   "execution_count": 23,
   "id": "08e86923-0822-4865-bac9-9aebdc02f9c7",
   "metadata": {},
   "outputs": [],
   "source": [
    "ridge_zona_result = ridge.predict(zona[columns].values)\n",
    "rf_zona_result = rf.predict(zona[columns].values) "
   ]
  },
  {
   "cell_type": "code",
   "execution_count": 24,
   "id": "1c81199d-b477-4d33-9729-4a746281429c",
   "metadata": {},
   "outputs": [
    {
     "data": {
      "text/plain": [
       "<matplotlib.collections.PathCollection at 0x2d5e1ca8400>"
      ]
     },
     "execution_count": 24,
     "metadata": {},
     "output_type": "execute_result"
    },
    {
     "data": {
      "image/png": "[encoded data removed]",
      "text/plain": [
       "<Figure size 432x288 with 1 Axes>"
      ]
     },
     "metadata": {},
     "output_type": "display_data"
    }
   ],
   "source": [
    "sns.set()\n",
    "plt.scatter(x= zona.m2_const, y = zona.price )\n",
    "plt.scatter(x= zona.m2_const, y = rf_zona_result, alpha= 0.2 )\n",
    "plt.scatter(x= zona.m2_const, y = ridge_zona_result, alpha= 0.2 )\n"
   ]
  },
  {
   "cell_type": "code",
   "execution_count": 25,
   "id": "1033d3f3-b3da-4b74-b7bb-e830a997264f",
   "metadata": {},
   "outputs": [],
   "source": [
    "importances = pd.Series(data=rf.feature_importances_,\n",
    "                        index= ['m2_terreno', 'm2_const', 'habitaciones', 'banos', 'autos', 'endocer_colonia'])\n"
   ]
  },
  {
   "cell_type": "code",
   "execution_count": 26,
   "id": "d7f82895-fbad-4d95-9acd-9ac2a9561d83",
   "metadata": {},
   "outputs": [
    {
     "data": {
      "text/plain": [
       "<AxesSubplot:>"
      ]
     },
     "execution_count": 26,
     "metadata": {},
     "output_type": "execute_result"
    },
    {
     "data": {
      "image/png": "[encoded data removed]",
      "text/plain": [
       "<Figure size 432x288 with 1 Axes>"
      ]
     },
     "metadata": {},
     "output_type": "display_data"
    }
   ],
   "source": [
    "importances.sort_values().plot(kind='bar')"
   ]
  },
  {
   "cell_type": "code",
   "execution_count": null,
   "id": "f73dd8fa-1efa-4c64-89df-e02c525f3d46",
   "metadata": {},
   "outputs": [],
   "source": []
  }
 ],
 "metadata": {
  "kernelspec": {
   "display_name": "Python 3 (ipykernel)",
   "language": "python",
   "name": "python3"
  },
  "language_info": {
   "codemirror_mode": {
    "name": "ipython",
    "version": 3
   },
   "file_extension": ".py",
   "mimetype": "text/x-python",
   "name": "python",
   "nbconvert_exporter": "python",
   "pygments_lexer": "ipython3",
   "version": "3.9.5"
  }
 },
 "nbformat": 4,
 "nbformat_minor": 5
}
