{
 "cells": [
  {
   "cell_type": "code",
   "execution_count": 1,
   "id": "1af9377e-90b3-4357-a129-999c6c213db6",
   "metadata": {},
   "outputs": [],
   "source": [
    "# types\n",
    "from numpy import array\n",
    "# Imports \n",
    "import time\n",
    "import datetime as dt\n",
    "# Math\n",
    "import pandas as pd\n",
    "import numpy as np\n",
    "# Plot\n",
    "import matplotlib.pyplot as plt\n",
    "import seaborn as sns\n",
    "import plotly.express as px\n",
    "# Ml\n",
    "from sklearn.preprocessing import MinMaxScaler, StandardScaler, LabelEncoder\n",
    "from sklearn.metrics import mean_squared_error\n",
    "from sklearn.model_selection import train_test_split, cross_val_score, cross_val_predict, GridSearchCV\n",
    "from sklearn.cluster import KMeans\n",
    "from sklearn.cluster import DBSCAN\n",
    "from sklearn.linear_model import LinearRegression, Lasso, Ridge\n",
    "from sklearn.ensemble import RandomForestRegressor\n",
    "# Save Models\n",
    "import joblib\n",
    "# Directories\n",
    "from cleansting.cleansting import CleanSting\n",
    "from cleansting.express import express_work_setup, rm_outliers_by_colonia, set_dummies_features, colonies_encoder, identify_skew_features\n",
    "from cleansting.ml.select_model import compare_ml_models, per_error_predicts, error_resume, hpt_random_forest, hpt_ridge, hpt_linear, compare_model_error, compare_score_models\n",
    "from cleansting.data_visualization.plots import heatmap_corr"
   ]
  },
  {
   "cell_type": "code",
   "execution_count": 2,
   "id": "497c25b2-cd72-4b58-8c76-642683da4f52",
   "metadata": {},
   "outputs": [],
   "source": [
    "d1 = r'C:\\Users\\albin\\PycharmProjects\\webscraper_lamudi\\lamudi\\json_raw\\enero\\lamudi_22_01_2022.json'\n",
    "d2 = r'C:\\Users\\albin\\PycharmProjects\\webscraper_lamudi\\lamudi\\json_raw\\febrero\\01_02_2022.json'\n",
    "d3 = r'C:\\Users\\albin\\PycharmProjects\\webscraper_lamudi\\lamudi\\json_raw\\febrero\\lamudi_15_02_22.json'\n",
    "d4 = r'C:\\Users\\albin\\PycharmProjects\\webscraper_lamudi\\lamudi\\json_raw\\marzo\\lamudi_28_02_22.json'\n",
    "d5 = r'C:\\Users\\albin\\PycharmProjects\\webscraper_lamudi\\lamudi\\json_raw\\marzo\\lamudi_12_03_22.json'\n",
    "d6 = r'C:\\Users\\albin\\PycharmProjects\\webscraper_lamudi\\lamudi\\json_raw\\marzo\\lamudi_18_03_22.json'\n",
    "d7 = r'C:\\Users\\albin\\PycharmProjects\\webscraper_lamudi\\lamudi\\json_raw\\marzo\\lamudi_26_03_2022.json'\n",
    "d8 = r'C:\\Users\\albin\\PycharmProjects\\webscraper_lamudi\\lamudi\\json_raw\\abril\\lamudi_01_04_22.json'"
   ]
  },
  {
   "cell_type": "code",
   "execution_count": 3,
   "id": "8b84ac31-bf00-494a-8295-a39c1d779746",
   "metadata": {},
   "outputs": [],
   "source": [
    "cl = CleanSting()"
   ]
  },
  {
   "cell_type": "code",
   "execution_count": 4,
   "id": "2b90ff25-20e1-4fd1-a6d9-75b748e9a846",
   "metadata": {},
   "outputs": [],
   "source": [
    "cl.fit_json(d1, d2, d3,d4,d5,d6,d7,d8)"
   ]
  },
  {
   "cell_type": "code",
   "execution_count": 5,
   "id": "da602e29-cad8-4bd5-b692-55cc41032426",
   "metadata": {},
   "outputs": [],
   "source": [
    "cl.json_to_pd()"
   ]
  },
  {
   "cell_type": "code",
   "execution_count": 6,
   "id": "f9b64196-2028-4cc6-95b1-6a3bc788394a",
   "metadata": {},
   "outputs": [],
   "source": [
    "df = cl.df['main']"
   ]
  },
  {
   "cell_type": "code",
   "execution_count": 7,
   "id": "5b26bbd7-8d0c-40a1-87bf-21853fba8420",
   "metadata": {},
   "outputs": [
    {
     "data": {
      "text/plain": [
       "Loma Bonita                        50\n",
       "Cumbres                            50\n",
       "Ixtapa                             50\n",
       "Puerta del Bosque                  50\n",
       "Ciudad Bugambilia                  50\n",
       "                                   ..\n",
       "Bobadilla                           1\n",
       "Rinconada Del Arroyo                1\n",
       "Zona Ejidal (Potrero Nuevo)         1\n",
       "Colonial Independencia Poniente     1\n",
       "Ladrillera                          1\n",
       "Name: colonia, Length: 1029, dtype: int64"
      ]
     },
     "execution_count": 7,
     "metadata": {},
     "output_type": "execute_result"
    }
   ],
   "source": [
    "count = df.colonia.value_counts() \n",
    "count[count <= 50]"
   ]
  },
  {
   "cell_type": "code",
   "execution_count": 8,
   "id": "08cfe27a-f5f1-4ae4-878e-ba1005a6a70f",
   "metadata": {},
   "outputs": [],
   "source": [
    "# Main Columns\n",
    "columns = ['colonia','price', 'm2_const', 'm2_terreno', 'habitaciones', 'banos', 'autos']\n",
    "# Get DataFrame to Work\n",
    "df = express_work_setup(df)"
   ]
  },
  {
   "cell_type": "code",
   "execution_count": 9,
   "id": "a9d9d0cf-9a8c-4be3-b2b5-e007a834464e",
   "metadata": {},
   "outputs": [],
   "source": [
    "# Select the Subset \n",
    "zona = df.loc[\n",
    "    (df.tipo_inmueble == 'Casa')\n",
    "    & (df.tipo_oferta == 'Venta')\n",
    "    # & (df.colonia == 'Americana')\n",
    "    # & (df.colonia == 'Valle Real')\n",
    "    # & (df.colonia.isin(['Puerta de Hierro', 'Valle Real', 'Americana', 'Providencia 1a Secc']))   \n",
    "]"
   ]
  },
  {
   "cell_type": "code",
   "execution_count": 10,
   "id": "1c015d42-34b0-426c-af1d-f465b36b92b4",
   "metadata": {},
   "outputs": [
    {
     "data": {
      "text/html": [
       "<div>\n",
       "<style scoped>\n",
       "    .dataframe tbody tr th:only-of-type {\n",
       "        vertical-align: middle;\n",
       "    }\n",
       "\n",
       "    .dataframe tbody tr th {\n",
       "        vertical-align: top;\n",
       "    }\n",
       "\n",
       "    .dataframe thead th {\n",
       "        text-align: right;\n",
       "    }\n",
       "</style>\n",
       "<table border=\"1\" class=\"dataframe\">\n",
       "  <thead>\n",
       "    <tr style=\"text-align: right;\">\n",
       "      <th></th>\n",
       "      <th>price</th>\n",
       "      <th>m2_const</th>\n",
       "      <th>m2_terreno</th>\n",
       "      <th>habitaciones</th>\n",
       "      <th>banos</th>\n",
       "      <th>autos</th>\n",
       "    </tr>\n",
       "  </thead>\n",
       "  <tbody>\n",
       "    <tr>\n",
       "      <th>count</th>\n",
       "      <td>9512.0</td>\n",
       "      <td>9512.0</td>\n",
       "      <td>9512.0</td>\n",
       "      <td>9512.0</td>\n",
       "      <td>9512.0</td>\n",
       "      <td>9512.0</td>\n",
       "    </tr>\n",
       "    <tr>\n",
       "      <th>mean</th>\n",
       "      <td>8926356.0</td>\n",
       "      <td>300.0</td>\n",
       "      <td>332.0</td>\n",
       "      <td>3.0</td>\n",
       "      <td>3.0</td>\n",
       "      <td>3.0</td>\n",
       "    </tr>\n",
       "    <tr>\n",
       "      <th>std</th>\n",
       "      <td>10522883.0</td>\n",
       "      <td>240.0</td>\n",
       "      <td>406.0</td>\n",
       "      <td>1.0</td>\n",
       "      <td>2.0</td>\n",
       "      <td>2.0</td>\n",
       "    </tr>\n",
       "    <tr>\n",
       "      <th>min</th>\n",
       "      <td>169000.0</td>\n",
       "      <td>28.0</td>\n",
       "      <td>51.0</td>\n",
       "      <td>1.0</td>\n",
       "      <td>1.0</td>\n",
       "      <td>0.0</td>\n",
       "    </tr>\n",
       "    <tr>\n",
       "      <th>25%</th>\n",
       "      <td>2600000.0</td>\n",
       "      <td>146.0</td>\n",
       "      <td>115.0</td>\n",
       "      <td>3.0</td>\n",
       "      <td>2.0</td>\n",
       "      <td>2.0</td>\n",
       "    </tr>\n",
       "    <tr>\n",
       "      <th>50%</th>\n",
       "      <td>5000000.0</td>\n",
       "      <td>225.0</td>\n",
       "      <td>169.0</td>\n",
       "      <td>3.0</td>\n",
       "      <td>3.0</td>\n",
       "      <td>2.0</td>\n",
       "    </tr>\n",
       "    <tr>\n",
       "      <th>75%</th>\n",
       "      <td>11340337.0</td>\n",
       "      <td>394.0</td>\n",
       "      <td>387.0</td>\n",
       "      <td>4.0</td>\n",
       "      <td>4.0</td>\n",
       "      <td>4.0</td>\n",
       "    </tr>\n",
       "    <tr>\n",
       "      <th>max</th>\n",
       "      <td>99960000.0</td>\n",
       "      <td>3963.0</td>\n",
       "      <td>4800.0</td>\n",
       "      <td>19.0</td>\n",
       "      <td>43.0</td>\n",
       "      <td>40.0</td>\n",
       "    </tr>\n",
       "  </tbody>\n",
       "</table>\n",
       "</div>"
      ],
      "text/plain": [
       "            price  m2_const  m2_terreno  habitaciones   banos   autos\n",
       "count      9512.0    9512.0      9512.0        9512.0  9512.0  9512.0\n",
       "mean    8926356.0     300.0       332.0           3.0     3.0     3.0\n",
       "std    10522883.0     240.0       406.0           1.0     2.0     2.0\n",
       "min      169000.0      28.0        51.0           1.0     1.0     0.0\n",
       "25%     2600000.0     146.0       115.0           3.0     2.0     2.0\n",
       "50%     5000000.0     225.0       169.0           3.0     3.0     2.0\n",
       "75%    11340337.0     394.0       387.0           4.0     4.0     4.0\n",
       "max    99960000.0    3963.0      4800.0          19.0    43.0    40.0"
      ]
     },
     "execution_count": 10,
     "metadata": {},
     "output_type": "execute_result"
    }
   ],
   "source": [
    "zona[columns].describe().round()"
   ]
  },
  {
   "cell_type": "code",
   "execution_count": 11,
   "id": "42aeec0e-914c-4cc3-9861-95fdfdc889d2",
   "metadata": {},
   "outputs": [
    {
     "data": {
      "text/html": [
       "<div>\n",
       "<style scoped>\n",
       "    .dataframe tbody tr th:only-of-type {\n",
       "        vertical-align: middle;\n",
       "    }\n",
       "\n",
       "    .dataframe tbody tr th {\n",
       "        vertical-align: top;\n",
       "    }\n",
       "\n",
       "    .dataframe thead th {\n",
       "        text-align: right;\n",
       "    }\n",
       "</style>\n",
       "<table border=\"1\" class=\"dataframe\">\n",
       "  <thead>\n",
       "    <tr style=\"text-align: right;\">\n",
       "      <th></th>\n",
       "      <th>colonia</th>\n",
       "      <th>price</th>\n",
       "      <th>m2_const</th>\n",
       "      <th>m2_terreno</th>\n",
       "      <th>habitaciones</th>\n",
       "      <th>banos</th>\n",
       "      <th>autos</th>\n",
       "    </tr>\n",
       "  </thead>\n",
       "  <tbody>\n",
       "    <tr>\n",
       "      <th>15575</th>\n",
       "      <td>Rancho Alegre</td>\n",
       "      <td>495000.0</td>\n",
       "      <td>51.0</td>\n",
       "      <td>51.0</td>\n",
       "      <td>3</td>\n",
       "      <td>1</td>\n",
       "      <td>1</td>\n",
       "    </tr>\n",
       "  </tbody>\n",
       "</table>\n",
       "</div>"
      ],
      "text/plain": [
       "             colonia     price  m2_const  m2_terreno  habitaciones  banos  \\\n",
       "15575  Rancho Alegre  495000.0      51.0        51.0             3      1   \n",
       "\n",
       "       autos  \n",
       "15575      1  "
      ]
     },
     "execution_count": 11,
     "metadata": {},
     "output_type": "execute_result"
    }
   ],
   "source": [
    "zona.loc[zona.m2_terreno == zona.m2_terreno.min(), columns]"
   ]
  },
  {
   "cell_type": "code",
   "execution_count": 12,
   "id": "58117b78-3fc6-41f0-9dc9-31c05cc5ac82",
   "metadata": {},
   "outputs": [],
   "source": [
    "# zona = rm_outliers_by_colonia(zona)"
   ]
  },
  {
   "cell_type": "code",
   "execution_count": 13,
   "id": "69d79668-65a5-4c8b-8dab-b5c4eb430a4b",
   "metadata": {},
   "outputs": [],
   "source": [
    "# zona = set_dummies_features(zona)"
   ]
  },
  {
   "cell_type": "code",
   "execution_count": 14,
   "id": "7674da13-e7e1-4884-b82b-a905f7a6eb1a",
   "metadata": {},
   "outputs": [],
   "source": [
    "# zona = colonies_encoder(zona)"
   ]
  },
  {
   "cell_type": "code",
   "execution_count": 15,
   "id": "24b2cc99-fe27-4832-80c1-769277caa897",
   "metadata": {},
   "outputs": [],
   "source": [
    "cl.df['main'] = zona\n",
    "zona = cl.drop_outliers('main', columns= ('price', 'm2_const', 'habitaciones', 'banos', 'autos'))"
   ]
  },
  {
   "cell_type": "code",
   "execution_count": 16,
   "id": "16aebdbd-ebaf-481e-97f5-25e71e61373f",
   "metadata": {},
   "outputs": [
    {
     "data": {
      "image/png": "[encoded data removed]",
      "text/plain": [
       "<Figure size 1440x360 with 2 Axes>"
      ]
     },
     "metadata": {},
     "output_type": "display_data"
    }
   ],
   "source": [
    "heatmap_corr(zona)"
   ]
  },
  {
   "cell_type": "markdown",
   "id": "7c0bea4f-4166-4887-be9d-4b98d88bf271",
   "metadata": {},
   "source": [
    "# Test Models"
   ]
  },
  {
   "cell_type": "code",
   "execution_count": 30,
   "id": "9d60a8eb-c5ad-40d9-a418-4029db201137",
   "metadata": {},
   "outputs": [],
   "source": [
    "columns = ['m2_terreno', 'm2_const', 'habitaciones', 'banos', 'autos']\n",
    "# Select Features\n",
    "X = zona.loc[:, columns].values\n",
    "# Select Target\n",
    "y = zona.price.values\n",
    "X_train, X_test, y_train, y_test = train_test_split(X, y, random_state = 72, test_size=.30)"
   ]
  },
  {
   "cell_type": "code",
   "execution_count": 31,
   "id": "1d9e4c1f-185b-4376-b635-fbb1f1af9436",
   "metadata": {},
   "outputs": [
    {
     "name": "stdout",
     "output_type": "stream",
     "text": [
      "Score: 0.5514878704181843\n",
      "Best Parameters: Ridge(alpha=13)\n"
     ]
    }
   ],
   "source": [
    "ridge = hpt_ridge(X_train, y_train, X_test, y_test)"
   ]
  },
  {
   "cell_type": "code",
   "execution_count": 32,
   "id": "65c3ecd7-2c13-4593-8119-695ff2402c5d",
   "metadata": {},
   "outputs": [
    {
     "name": "stdout",
     "output_type": "stream",
     "text": [
      "CV Score: 0.62\n",
      "Train score 0.55\n",
      "Predict Score 0.55\n",
      "-----------------\n",
      "All Scores 0.57\n"
     ]
    }
   ],
   "source": [
    "lin = hpt_linear(X_train, y_train, X_test, y_test)"
   ]
  },
  {
   "cell_type": "code",
   "execution_count": null,
   "id": "6cd432d5-6cb3-42ae-a4ed-630e6f0f7e62",
   "metadata": {},
   "outputs": [
    {
     "name": "stdout",
     "output_type": "stream",
     "text": [
      "Fitting 3 folds for each of 480 candidates, totalling 1440 fits\n"
     ]
    }
   ],
   "source": [
    "rf =hpt_random_forest(X_train, y_train)"
   ]
  },
  {
   "cell_type": "code",
   "execution_count": null,
   "id": "dc9402b6-cd31-4dd1-a229-5a6495d8e8ad",
   "metadata": {},
   "outputs": [],
   "source": [
    "rf.get_params"
   ]
  },
  {
   "cell_type": "code",
   "execution_count": null,
   "id": "f2ae7fd1-1afa-4150-a321-88f0115c57b7",
   "metadata": {},
   "outputs": [],
   "source": [
    "compare_model_error(X_test, y_test, randomfores=rf, linear=lin, ridge=ridge )"
   ]
  },
  {
   "cell_type": "code",
   "execution_count": null,
   "id": "b2db55f3-c78f-4c91-b3ce-676cc090d76d",
   "metadata": {},
   "outputs": [],
   "source": [
    "compare_score_models(X_train, X_test, y_train, y_test, linear=lin, ridge=ridge, randomfores= rf)"
   ]
  },
  {
   "cell_type": "code",
   "execution_count": null,
   "id": "0eec84fe-203f-4327-9a82-19d87ce5bb55",
   "metadata": {},
   "outputs": [],
   "source": [
    "m2_const= 84\n",
    "habitaciones= 2\n",
    "banos=2\n",
    "autos=2\n",
    "to_predict = np.array([[m2_const,habitaciones, banos, autos]])\n",
    "to_predict"
   ]
  },
  {
   "cell_type": "code",
   "execution_count": 25,
   "id": "02cd99ae-ab53-458f-ae7c-9a118a08880d",
   "metadata": {},
   "outputs": [
    {
     "data": {
      "text/plain": [
       "array([1419960.23214497])"
      ]
     },
     "execution_count": 25,
     "metadata": {},
     "output_type": "execute_result"
    }
   ],
   "source": [
    "r_result = rf.predict(to_predict) \n",
    "r_result"
   ]
  },
  {
   "cell_type": "code",
   "execution_count": 26,
   "id": "83cebca7-5584-4b26-ba8d-a042d591a607",
   "metadata": {},
   "outputs": [
    {
     "data": {
      "text/plain": [
       "array([825420.8046875])"
      ]
     },
     "execution_count": 26,
     "metadata": {},
     "output_type": "execute_result"
    }
   ],
   "source": [
    "rid_result = lin.predict(to_predict)\n",
    "rid_result"
   ]
  },
  {
   "cell_type": "code",
   "execution_count": 27,
   "id": "682b7a25-d27f-4019-a801-4ed953e07620",
   "metadata": {},
   "outputs": [
    {
     "data": {
      "text/plain": [
       "1122690.5184162345"
      ]
     },
     "execution_count": 27,
     "metadata": {},
     "output_type": "execute_result"
    }
   ],
   "source": [
    "np.mean([r_result, rid_result])"
   ]
  },
  {
   "cell_type": "code",
   "execution_count": 28,
   "id": "08e86923-0822-4865-bac9-9aebdc02f9c7",
   "metadata": {},
   "outputs": [],
   "source": [
    "ridge_zona_result = ridge.predict(zona[columns].values)\n",
    "rf_zona_result = rf.predict(zona[columns].values) "
   ]
  },
  {
   "cell_type": "code",
   "execution_count": 29,
   "id": "1c81199d-b477-4d33-9729-4a746281429c",
   "metadata": {},
   "outputs": [
    {
     "data": {
      "text/plain": [
       "<matplotlib.collections.PathCollection at 0x2bd0d9d9b80>"
      ]
     },
     "execution_count": 29,
     "metadata": {},
     "output_type": "execute_result"
    },
    {
     "data": {
      "image/png": "[encoded data removed]",
      "text/plain": [
       "<Figure size 432x288 with 1 Axes>"
      ]
     },
     "metadata": {},
     "output_type": "display_data"
    }
   ],
   "source": [
    "sns.set()\n",
    "plt.scatter(x= zona.m2_const, y = zona.price )\n",
    "plt.scatter(x= zona.m2_const, y = ridge_zona_result, alpha= 0.5 )\n",
    "plt.scatter(x= zona.m2_const, y = rf_zona_result, alpha= 0.5 )"
   ]
  },
  {
   "cell_type": "code",
   "execution_count": null,
   "id": "4bac0755-cf46-4b3b-bbaa-55a32ab0dcf4",
   "metadata": {},
   "outputs": [],
   "source": []
  },
  {
   "cell_type": "code",
   "execution_count": null,
   "id": "54354a4f-5b5d-4971-821f-cc4ac250c599",
   "metadata": {},
   "outputs": [],
   "source": []
  }
 ],
 "metadata": {
  "kernelspec": {
   "display_name": "Python 3 (ipykernel)",
   "language": "python",
   "name": "python3"
  },
  "language_info": {
   "codemirror_mode": {
    "name": "ipython",
    "version": 3
   },
   "file_extension": ".py",
   "mimetype": "text/x-python",
   "name": "python",
   "nbconvert_exporter": "python",
   "pygments_lexer": "ipython3",
   "version": "3.9.5"
  }
 },
 "nbformat": 4,
 "nbformat_minor": 5
}
